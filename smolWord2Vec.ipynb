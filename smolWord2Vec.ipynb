{
 "cells": [
  {
   "cell_type": "code",
   "execution_count": 1,
   "id": "20b06004-6583-422b-95a1-49882dd920a4",
   "metadata": {},
   "outputs": [
    {
     "name": "stdout",
     "output_type": "stream",
     "text": [
      "Using device: mps\n"
     ]
    }
   ],
   "source": [
    "import torch\n",
    "import torch.nn as nn\n",
    "import torch.optim as optim\n",
    "from torch.utils.data import Dataset, DataLoader\n",
    "import numpy as np\n",
    "from collections import Counter\n",
    "import requests\n",
    "import zipfile\n",
    "import io\n",
    "import matplotlib.pyplot as plt\n",
    "\n",
    "if torch.backends.mps.is_available():\n",
    "    device = torch.device(\"mps\")\n",
    "else:\n",
    "    device = torch.device(\"cpu\")\n",
    "print(f\"Using device: {device}\")"
   ]
  },
  {
   "cell_type": "code",
   "execution_count": 2,
   "id": "441744d3-f647-4ed9-9f9b-b7fe5a5d7dec",
   "metadata": {},
   "outputs": [
    {
     "name": "stdout",
     "output_type": "stream",
     "text": [
      "Corpus size: 167285 words\n"
     ]
    }
   ],
   "source": [
    "# Download and Prepare the Corpus\n",
    "# Download the text8 dataset and limit it to 1 million characters for simplicity.\n",
    "url = \"http://mattmahoney.net/dc/text8.zip\"\n",
    "response = requests.get(url)\n",
    "with zipfile.ZipFile(io.BytesIO(response.content)) as z:\n",
    "    text = z.read(\"text8\").decode(\"utf-8\")\n",
    "text = text[:1000000]  # Limit to 1M characters\n",
    "words = text.split()\n",
    "print(f\"Corpus size: {len(words)} words\")"
   ]
  },
  {
   "cell_type": "code",
   "execution_count": 3,
   "id": "b7ff5209-8340-4131-867a-acb44c62d1bb",
   "metadata": {},
   "outputs": [
    {
     "name": "stdout",
     "output_type": "stream",
     "text": [
      "Vocabulary size: 16774\n",
      "Number of pairs: 1672820\n"
     ]
    }
   ],
   "source": [
    "# Build Vocabulary and Pairs\n",
    "# Create the vocabulary and generate positive skip-gram pairs.\n",
    "vocab = list(set(words))\n",
    "vocab_size = len(vocab)\n",
    "word_to_idx = {word: idx for idx, word in enumerate(vocab)}\n",
    "idx_to_word = {idx: word for word, idx in word_to_idx.items()}\n",
    "print(f\"Vocabulary size: {vocab_size}\")\n",
    "\n",
    "# Compute sampling probabilities for negative sampling\n",
    "word_freq = Counter(words)\n",
    "freq_array = np.array([word_freq[word] for word in vocab])\n",
    "sampling_weights = freq_array ** 0.75\n",
    "sampling_probs = sampling_weights / sampling_weights.sum()\n",
    "\n",
    "# Generate positive pairs\n",
    "window_size = 5\n",
    "pairs = []\n",
    "for i in range(len(words)):\n",
    "    for j in range(max(0, i - window_size), min(len(words), i + window_size + 1)):\n",
    "        if i != j:\n",
    "            pairs.append((word_to_idx[words[i]], word_to_idx[words[j]]))\n",
    "print(f\"Number of pairs: {len(pairs)}\")"
   ]
  },
  {
   "cell_type": "code",
   "execution_count": 4,
   "id": "8eaa07fd-39f4-4bd4-93d1-99e94a868b84",
   "metadata": {},
   "outputs": [],
   "source": [
    "# Define the Skip-Gram Model\n",
    "class SkipGramModel(nn.Module):\n",
    "    def __init__(self, vocab_size, embedding_dim):\n",
    "        super(SkipGramModel, self).__init__()\n",
    "        self.embeddings = nn.Embedding(vocab_size, embedding_dim)\n",
    "        self.out_layer = nn.Embedding(vocab_size, embedding_dim)\n",
    "        self.init_weights()\n",
    "    \n",
    "    def init_weights(self):\n",
    "        initrange = 0.5 / embedding_dim\n",
    "        self.embeddings.weight.data.uniform_(-initrange, initrange)\n",
    "        self.out_layer.weight.data.uniform_(-initrange, initrange)\n",
    "    \n",
    "    def forward(self, target, positive_context, negative_contexts):\n",
    "        target_emb = self.embeddings(target)\n",
    "        pos_emb = self.out_layer(positive_context)\n",
    "        neg_emb = self.out_layer(negative_contexts)\n",
    "        \n",
    "        # Positive loss\n",
    "        pos_score = torch.sum(target_emb * pos_emb, dim=1)\n",
    "        pos_loss = -torch.log(torch.sigmoid(pos_score)).mean()\n",
    "        \n",
    "        # Negative loss\n",
    "        neg_score = torch.bmm(neg_emb, target_emb.unsqueeze(2)).squeeze(2)\n",
    "        neg_loss = -torch.log(torch.sigmoid(-neg_score)).mean()\n",
    "        \n",
    "        return pos_loss + neg_loss"
   ]
  },
  {
   "cell_type": "code",
   "execution_count": 5,
   "id": "a7a7d4d7-afd8-451a-bacd-d3990d65f63c",
   "metadata": {},
   "outputs": [],
   "source": [
    "class SkipGramDataset(Dataset):\n",
    "    def __init__(self, pairs, vocab_size, sampling_probs, k=5):\n",
    "        self.pairs = pairs\n",
    "        self.vocab_size = vocab_size\n",
    "        self.sampling_probs = sampling_probs  # NumPy array or list\n",
    "        self.k = k\n",
    "\n",
    "    def __len__(self):\n",
    "        return len(self.pairs)\n",
    "\n",
    "    def __getitem__(self, idx):\n",
    "        target, positive = self.pairs[idx]\n",
    "        # Sample negative contexts on CPU, then move to device\n",
    "        negative = np.random.choice(self.vocab_size, self.k, p=self.sampling_probs)\n",
    "        return (\n",
    "            torch.tensor(target, device=device),\n",
    "            torch.tensor(positive, device=device),\n",
    "            torch.tensor(negative, device=device)\n",
    "        )\n",
    "\n",
    "# Initialize dataset and dataloader\n",
    "dataset = SkipGramDataset(pairs, vocab_size, sampling_probs, k=5)\n",
    "dataloader = DataLoader(dataset, batch_size=32, shuffle=True)"
   ]
  },
  {
   "cell_type": "code",
   "execution_count": 6,
   "id": "b6cd739a-36a8-46f7-a8a2-f59c9aae045e",
   "metadata": {},
   "outputs": [],
   "source": [
    "# Initialize Model \n",
    "embedding_dim = 100\n",
    "model = SkipGramModel(vocab_size, embedding_dim).to(device)\n",
    "\n",
    "# Define Optimizer\n",
    "optimizer = optim.Adam(model.parameters(), lr=0.001)"
   ]
  },
  {
   "cell_type": "code",
   "execution_count": 20,
   "id": "271fabf9-3e00-4daf-a1e0-934bfee6ed07",
   "metadata": {},
   "outputs": [
    {
     "name": "stderr",
     "output_type": "stream",
     "text": [
      "Epoch 1/5: 100%|███████████████| 52276/52276 [31:10<00:00, 27.94it/s, loss=1.25]\n"
     ]
    },
    {
     "name": "stdout",
     "output_type": "stream",
     "text": [
      "Checkpoint saved to checkpoints/model_epoch_1.pt\n",
      "Epoch 1, Loss: 1.2532\n"
     ]
    },
    {
     "name": "stderr",
     "output_type": "stream",
     "text": [
      "Epoch 2/5: 100%|███████████████| 52276/52276 [30:43<00:00, 28.36it/s, loss=1.14]\n"
     ]
    },
    {
     "name": "stdout",
     "output_type": "stream",
     "text": [
      "Checkpoint saved to checkpoints/model_epoch_2.pt\n",
      "Epoch 2, Loss: 1.1383\n"
     ]
    },
    {
     "name": "stderr",
     "output_type": "stream",
     "text": [
      "Epoch 3/5: 100%|███████████████| 52276/52276 [30:09<00:00, 28.89it/s, loss=1.04]\n"
     ]
    },
    {
     "name": "stdout",
     "output_type": "stream",
     "text": [
      "Checkpoint saved to checkpoints/model_epoch_3.pt\n",
      "Epoch 3, Loss: 1.0419\n"
     ]
    },
    {
     "name": "stderr",
     "output_type": "stream",
     "text": [
      "Epoch 4/5: 100%|██████████████| 52276/52276 [30:21<00:00, 28.69it/s, loss=0.973]\n"
     ]
    },
    {
     "name": "stdout",
     "output_type": "stream",
     "text": [
      "Checkpoint saved to checkpoints/model_epoch_4.pt\n",
      "Epoch 4, Loss: 0.9732\n"
     ]
    },
    {
     "name": "stderr",
     "output_type": "stream",
     "text": [
      "Epoch 5/5: 100%|██████████████| 52276/52276 [29:41<00:00, 29.35it/s, loss=0.928]\n"
     ]
    },
    {
     "name": "stdout",
     "output_type": "stream",
     "text": [
      "Checkpoint saved to checkpoints/model_epoch_5.pt\n",
      "Epoch 5, Loss: 0.9280\n"
     ]
    }
   ],
   "source": [
    "from tqdm import tqdm\n",
    "import os\n",
    "\n",
    "# Directory to save checkpoints\n",
    "checkpoint_dir = \"checkpoints\"\n",
    "if not os.path.exists(checkpoint_dir):\n",
    "    os.makedirs(checkpoint_dir)\n",
    "\n",
    "# Train the model\n",
    "num_epochs = 5\n",
    "loss_history = []\n",
    "for epoch in range(num_epochs):\n",
    "    total_loss = 0\n",
    "    progress_bar = tqdm(dataloader, desc=f\"Epoch {epoch+1}/{num_epochs}\")\n",
    "    for i, batch in enumerate(progress_bar):\n",
    "        target, positive_context, negative_contexts = batch\n",
    "        optimizer.zero_grad()\n",
    "        loss = model(target, positive_context, negative_contexts)\n",
    "        loss.backward()\n",
    "        optimizer.step()\n",
    "        total_loss += loss.item()\n",
    "        progress_bar.set_postfix({'loss': total_loss / (i + 1)})\n",
    "    \n",
    "    checkpoint_path = os.path.join(checkpoint_dir, f\"model_epoch_{epoch+1}.pt\")\n",
    "    torch.save({\n",
    "        'epoch': epoch + 1,\n",
    "        'model_state_dict': model.state_dict(),\n",
    "        'optimizer_state_dict': optimizer.state_dict(),\n",
    "        'loss': total_loss / len(dataloader),\n",
    "    }, checkpoint_path)\n",
    "    print(f\"Checkpoint saved to {checkpoint_path}\")\n",
    "    \n",
    "    avg_loss = total_loss / len(dataloader)\n",
    "    print(f\"Epoch {epoch+1}, Loss: {avg_loss:.4f}\")\n",
    "    loss_history.append(avg_loss)\n",
    "    "
   ]
  },
  {
   "cell_type": "code",
   "execution_count": 25,
   "id": "dcdf1555-2f6d-4858-9052-9e0f0998ede1",
   "metadata": {},
   "outputs": [
    {
     "name": "stderr",
     "output_type": "stream",
     "text": [
      "Epoch 6/5: 100%|██████████████| 52276/52276 [29:47<00:00, 29.25it/s, loss=0.899]\n"
     ]
    },
    {
     "name": "stdout",
     "output_type": "stream",
     "text": [
      "Checkpoint saved to checkpoints/model_epoch_6.pt\n",
      "Epoch 6, Loss: 0.8986\n"
     ]
    },
    {
     "name": "stderr",
     "output_type": "stream",
     "text": [
      "Epoch 7/5: 100%|██████████████| 52276/52276 [29:32<00:00, 29.49it/s, loss=0.879]\n"
     ]
    },
    {
     "name": "stdout",
     "output_type": "stream",
     "text": [
      "Checkpoint saved to checkpoints/model_epoch_7.pt\n",
      "Epoch 7, Loss: 0.8793\n"
     ]
    },
    {
     "name": "stderr",
     "output_type": "stream",
     "text": [
      "Epoch 8/5: 100%|██████████████| 52276/52276 [30:56<00:00, 28.16it/s, loss=0.866]\n"
     ]
    },
    {
     "name": "stdout",
     "output_type": "stream",
     "text": [
      "Checkpoint saved to checkpoints/model_epoch_8.pt\n",
      "Epoch 8, Loss: 0.8663\n"
     ]
    },
    {
     "name": "stderr",
     "output_type": "stream",
     "text": [
      "Epoch 9/5: 100%|██████████████| 52276/52276 [33:10<00:00, 26.27it/s, loss=0.857]\n"
     ]
    },
    {
     "name": "stdout",
     "output_type": "stream",
     "text": [
      "Checkpoint saved to checkpoints/model_epoch_9.pt\n",
      "Epoch 9, Loss: 0.8566\n"
     ]
    },
    {
     "name": "stderr",
     "output_type": "stream",
     "text": [
      "Epoch 10/5: 100%|██████████████| 52276/52276 [31:51<00:00, 27.35it/s, loss=0.85]\n"
     ]
    },
    {
     "name": "stdout",
     "output_type": "stream",
     "text": [
      "Checkpoint saved to checkpoints/model_epoch_10.pt\n",
      "Epoch 10, Loss: 0.8500\n"
     ]
    }
   ],
   "source": [
    "# Load the checkpoint\n",
    "checkpoint_path = \"checkpoints/model_epoch_5.pt\"  \n",
    "checkpoint = torch.load(checkpoint_path)\n",
    "model.load_state_dict(checkpoint['model_state_dict'])\n",
    "optimizer.load_state_dict(checkpoint['optimizer_state_dict'])\n",
    "start_epoch = checkpoint['epoch']\n",
    "\n",
    "# Resume training from the next epoch\n",
    "for epoch in range(start_epoch, num_epochs + 5):\n",
    "    total_loss = 0\n",
    "    # Wrap the dataloader with tqdm to show progress for batches\n",
    "    progress_bar = tqdm(dataloader, desc=f\"Epoch {epoch+1}/{num_epochs}\")\n",
    "    for i, batch in enumerate(progress_bar):\n",
    "        target, positive_context, negative_contexts = batch\n",
    "        optimizer.zero_grad()\n",
    "        loss = model(target, positive_context, negative_contexts)\n",
    "        loss.backward()\n",
    "        optimizer.step()\n",
    "        total_loss += loss.item()\n",
    "        # Update the progress bar with the running average loss\n",
    "        progress_bar.set_postfix({'loss': total_loss / (i + 1)})\n",
    "    \n",
    "    # Save the model checkpoint after each epoch\n",
    "    checkpoint_path = os.path.join(checkpoint_dir, f\"model_epoch_{epoch+1}.pt\")\n",
    "    torch.save({\n",
    "        'epoch': epoch + 1,\n",
    "        'model_state_dict': model.state_dict(),\n",
    "        'optimizer_state_dict': optimizer.state_dict(),\n",
    "        'loss': total_loss / len(dataloader),\n",
    "    }, checkpoint_path)\n",
    "    print(f\"Checkpoint saved to {checkpoint_path}\")\n",
    "    \n",
    "    # Print the final average loss for the epoch\n",
    "    avg_loss = total_loss / len(dataloader)\n",
    "    print(f\"Epoch {epoch+1}, Loss: {avg_loss:.4f}\")\n",
    "    loss_history.append(avg_loss)"
   ]
  },
  {
   "cell_type": "code",
   "execution_count": 28,
   "id": "6f187ffe-62c0-4236-bd2c-2e3912485245",
   "metadata": {},
   "outputs": [
    {
     "data": {
      "image/png": "[encoded data removed]",
      "text/plain": [
       "<Figure size 640x480 with 1 Axes>"
      ]
     },
     "metadata": {},
     "output_type": "display_data"
    }
   ],
   "source": [
    "plt.plot(range(1, num_epochs + 6), loss_history, marker='o')\n",
    "plt.xlabel('Epoch')\n",
    "plt.ylabel('Average Loss')\n",
    "plt.title('Training Loss over Epochs')\n",
    "plt.grid(True)\n",
    "plt.show()"
   ]
  },
  {
   "cell_type": "code",
   "execution_count": null,
   "id": "b36246d1-5e8e-43c3-848a-67db80443f06",
   "metadata": {},
   "outputs": [],
   "source": []
  }
 ],
 "metadata": {
  "kernelspec": {
   "display_name": "Python 3 (ipykernel)",
   "language": "python",
   "name": "python3"
  },
  "language_info": {
   "codemirror_mode": {
    "name": "ipython",
    "version": 3
   },
   "file_extension": ".py",
   "mimetype": "text/x-python",
   "name": "python",
   "nbconvert_exporter": "python",
   "pygments_lexer": "ipython3",
   "version": "3.10.14"
  }
 },
 "nbformat": 4,
 "nbformat_minor": 5
}
